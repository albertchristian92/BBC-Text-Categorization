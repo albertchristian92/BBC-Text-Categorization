{
  "nbformat": 4,
  "nbformat_minor": 0,
  "metadata": {
    "colab": {
      "name": "Dicoding_nlp.ipynb",
      "provenance": [],
      "authorship_tag": "ABX9TyN+ghkLMbVXCg7VLKif2Dvg",
      "include_colab_link": true
    },
    "kernelspec": {
      "name": "python3",
      "display_name": "Python 3"
    },
    "language_info": {
      "name": "python"
    },
    "accelerator": "GPU"
  },
  "cells": [
    {
      "cell_type": "markdown",
      "metadata": {
        "id": "view-in-github",
        "colab_type": "text"
      },
      "source": [
        "<a href=\"https://colab.research.google.com/github/albertchristian92/BBC-Text-Categorization/blob/main/Dicoding_nlp.ipynb\" target=\"_parent\"><img src=\"https://colab.research.google.com/assets/colab-badge.svg\" alt=\"Open In Colab\"/></a>"
      ]
    },
    {
      "cell_type": "code",
      "metadata": {
        "colab": {
          "base_uri": "https://localhost:8080/"
        },
        "id": "o-it35ofcFDQ",
        "outputId": "c5ef6bb7-5f01-4a80-dcc7-d073e52dfc5c"
      },
      "source": [
        "#Pertama-tama set runtime setting to GPU pada google colabs agar dapat di run menggunakan GPU, sebab jika training menggunakan CPU akan consume time\n",
        "#Runtime-> Change Runtime type\n",
        "#Cek apakah sudah menggunakan GPU atau belum\n",
        "\n",
        "%tensorflow_version 2.x\n",
        "import tensorflow as tf\n",
        "device_name = tf.test.gpu_device_name()\n",
        "if device_name != '/device:GPU:0':\n",
        "  raise SystemError('GPU device not found')\n",
        "print('Found GPU at: {}'.format(device_name))"
      ],
      "execution_count": 1,
      "outputs": [
        {
          "output_type": "stream",
          "text": [
            "Found GPU at: /device:GPU:0\n"
          ],
          "name": "stdout"
        }
      ]
    },
    {
      "cell_type": "code",
      "metadata": {
        "colab": {
          "base_uri": "https://localhost:8080/"
        },
        "id": "4oNS1RA4cP5Y",
        "outputId": "bcac4141-7ab2-45fa-f419-e7613d9ddb39"
      },
      "source": [
        "#Cek GPU apa yang digunakan\n",
        "!nvidia-smi"
      ],
      "execution_count": 2,
      "outputs": [
        {
          "output_type": "stream",
          "text": [
            "Thu Jul 15 09:33:49 2021       \n",
            "+-----------------------------------------------------------------------------+\n",
            "| NVIDIA-SMI 470.42.01    Driver Version: 460.32.03    CUDA Version: 11.2     |\n",
            "|-------------------------------+----------------------+----------------------+\n",
            "| GPU  Name        Persistence-M| Bus-Id        Disp.A | Volatile Uncorr. ECC |\n",
            "| Fan  Temp  Perf  Pwr:Usage/Cap|         Memory-Usage | GPU-Util  Compute M. |\n",
            "|                               |                      |               MIG M. |\n",
            "|===============================+======================+======================|\n",
            "|   0  Tesla T4            Off  | 00000000:00:04.0 Off |                    0 |\n",
            "| N/A   51C    P0    28W /  70W |    222MiB / 15109MiB |      3%      Default |\n",
            "|                               |                      |                  N/A |\n",
            "+-------------------------------+----------------------+----------------------+\n",
            "                                                                               \n",
            "+-----------------------------------------------------------------------------+\n",
            "| Processes:                                                                  |\n",
            "|  GPU   GI   CI        PID   Type   Process name                  GPU Memory |\n",
            "|        ID   ID                                                   Usage      |\n",
            "|=============================================================================|\n",
            "|  No running processes found                                                 |\n",
            "+-----------------------------------------------------------------------------+\n"
          ],
          "name": "stdout"
        }
      ]
    },
    {
      "cell_type": "code",
      "metadata": {
        "colab": {
          "base_uri": "https://localhost:8080/"
        },
        "id": "LGYHf-gkcTFG",
        "outputId": "222e0189-bab0-4c1a-96c8-dead6bfb27d0"
      },
      "source": [
        "#Import Library yang dibutuhkan\n",
        "import pandas as pd\n",
        "from sklearn.model_selection import train_test_split\n",
        "\n",
        "import tensorflow as tf\n",
        "from tensorflow import keras\n",
        "from tensorflow.keras.preprocessing.text import Tokenizer\n",
        "from tensorflow.keras.preprocessing.sequence import pad_sequences\n",
        "\n",
        "import matplotlib.pyplot as plt\n",
        "\n",
        "#This code was tested with TensorFlow v2.4.1\n",
        "print(\"You have TensorFlow version\", tf.__version__)"
      ],
      "execution_count": 15,
      "outputs": [
        {
          "output_type": "stream",
          "text": [
            "You have TensorFlow version 2.5.0\n"
          ],
          "name": "stdout"
        }
      ]
    },
    {
      "cell_type": "markdown",
      "metadata": {
        "id": "zE-8LRAydt2q"
      },
      "source": [
        "Upload dataset ke google colabs:\n",
        "Dataset yang saya gunakan:  https://www.kaggle.com/yufengdev/bbc-fulltext-and-category"
      ]
    },
    {
      "cell_type": "code",
      "metadata": {
        "colab": {
          "base_uri": "https://localhost:8080/",
          "height": 204
        },
        "id": "qxng5B96cpXQ",
        "outputId": "8e3bdfd2-829a-42f3-a9c7-edd9c519602e"
      },
      "source": [
        "#baca data dan tampilkan 5 sampel teratas pada dataset\n",
        "df = pd.read_csv(\"bbc-text.csv\")\n",
        "df.head()"
      ],
      "execution_count": 4,
      "outputs": [
        {
          "output_type": "execute_result",
          "data": {
            "text/html": [
              "<div>\n",
              "<style scoped>\n",
              "    .dataframe tbody tr th:only-of-type {\n",
              "        vertical-align: middle;\n",
              "    }\n",
              "\n",
              "    .dataframe tbody tr th {\n",
              "        vertical-align: top;\n",
              "    }\n",
              "\n",
              "    .dataframe thead th {\n",
              "        text-align: right;\n",
              "    }\n",
              "</style>\n",
              "<table border=\"1\" class=\"dataframe\">\n",
              "  <thead>\n",
              "    <tr style=\"text-align: right;\">\n",
              "      <th></th>\n",
              "      <th>category</th>\n",
              "      <th>text</th>\n",
              "    </tr>\n",
              "  </thead>\n",
              "  <tbody>\n",
              "    <tr>\n",
              "      <th>0</th>\n",
              "      <td>tech</td>\n",
              "      <td>tv future in the hands of viewers with home th...</td>\n",
              "    </tr>\n",
              "    <tr>\n",
              "      <th>1</th>\n",
              "      <td>business</td>\n",
              "      <td>worldcom boss  left books alone  former worldc...</td>\n",
              "    </tr>\n",
              "    <tr>\n",
              "      <th>2</th>\n",
              "      <td>sport</td>\n",
              "      <td>tigers wary of farrell  gamble  leicester say ...</td>\n",
              "    </tr>\n",
              "    <tr>\n",
              "      <th>3</th>\n",
              "      <td>sport</td>\n",
              "      <td>yeading face newcastle in fa cup premiership s...</td>\n",
              "    </tr>\n",
              "    <tr>\n",
              "      <th>4</th>\n",
              "      <td>entertainment</td>\n",
              "      <td>ocean s twelve raids box office ocean s twelve...</td>\n",
              "    </tr>\n",
              "  </tbody>\n",
              "</table>\n",
              "</div>"
            ],
            "text/plain": [
              "        category                                               text\n",
              "0           tech  tv future in the hands of viewers with home th...\n",
              "1       business  worldcom boss  left books alone  former worldc...\n",
              "2          sport  tigers wary of farrell  gamble  leicester say ...\n",
              "3          sport  yeading face newcastle in fa cup premiership s...\n",
              "4  entertainment  ocean s twelve raids box office ocean s twelve..."
            ]
          },
          "metadata": {
            "tags": []
          },
          "execution_count": 4
        }
      ]
    },
    {
      "cell_type": "code",
      "metadata": {
        "colab": {
          "base_uri": "https://localhost:8080/",
          "height": 419
        },
        "id": "oPZ1k_kwdAcH",
        "outputId": "de8433bc-3c9b-4928-ef7a-1b4f86f813af"
      },
      "source": [
        "# one-hot-encoding \n",
        "kategori = pd.get_dummies(df.category)\n",
        "df_baru = pd.concat([df, kategori], axis=1)\n",
        "df_baru = df_baru.drop(columns='category')\n",
        "df_baru"
      ],
      "execution_count": 5,
      "outputs": [
        {
          "output_type": "execute_result",
          "data": {
            "text/html": [
              "<div>\n",
              "<style scoped>\n",
              "    .dataframe tbody tr th:only-of-type {\n",
              "        vertical-align: middle;\n",
              "    }\n",
              "\n",
              "    .dataframe tbody tr th {\n",
              "        vertical-align: top;\n",
              "    }\n",
              "\n",
              "    .dataframe thead th {\n",
              "        text-align: right;\n",
              "    }\n",
              "</style>\n",
              "<table border=\"1\" class=\"dataframe\">\n",
              "  <thead>\n",
              "    <tr style=\"text-align: right;\">\n",
              "      <th></th>\n",
              "      <th>text</th>\n",
              "      <th>business</th>\n",
              "      <th>entertainment</th>\n",
              "      <th>politics</th>\n",
              "      <th>sport</th>\n",
              "      <th>tech</th>\n",
              "    </tr>\n",
              "  </thead>\n",
              "  <tbody>\n",
              "    <tr>\n",
              "      <th>0</th>\n",
              "      <td>tv future in the hands of viewers with home th...</td>\n",
              "      <td>0</td>\n",
              "      <td>0</td>\n",
              "      <td>0</td>\n",
              "      <td>0</td>\n",
              "      <td>1</td>\n",
              "    </tr>\n",
              "    <tr>\n",
              "      <th>1</th>\n",
              "      <td>worldcom boss  left books alone  former worldc...</td>\n",
              "      <td>1</td>\n",
              "      <td>0</td>\n",
              "      <td>0</td>\n",
              "      <td>0</td>\n",
              "      <td>0</td>\n",
              "    </tr>\n",
              "    <tr>\n",
              "      <th>2</th>\n",
              "      <td>tigers wary of farrell  gamble  leicester say ...</td>\n",
              "      <td>0</td>\n",
              "      <td>0</td>\n",
              "      <td>0</td>\n",
              "      <td>1</td>\n",
              "      <td>0</td>\n",
              "    </tr>\n",
              "    <tr>\n",
              "      <th>3</th>\n",
              "      <td>yeading face newcastle in fa cup premiership s...</td>\n",
              "      <td>0</td>\n",
              "      <td>0</td>\n",
              "      <td>0</td>\n",
              "      <td>1</td>\n",
              "      <td>0</td>\n",
              "    </tr>\n",
              "    <tr>\n",
              "      <th>4</th>\n",
              "      <td>ocean s twelve raids box office ocean s twelve...</td>\n",
              "      <td>0</td>\n",
              "      <td>1</td>\n",
              "      <td>0</td>\n",
              "      <td>0</td>\n",
              "      <td>0</td>\n",
              "    </tr>\n",
              "    <tr>\n",
              "      <th>...</th>\n",
              "      <td>...</td>\n",
              "      <td>...</td>\n",
              "      <td>...</td>\n",
              "      <td>...</td>\n",
              "      <td>...</td>\n",
              "      <td>...</td>\n",
              "    </tr>\n",
              "    <tr>\n",
              "      <th>2220</th>\n",
              "      <td>cars pull down us retail figures us retail sal...</td>\n",
              "      <td>1</td>\n",
              "      <td>0</td>\n",
              "      <td>0</td>\n",
              "      <td>0</td>\n",
              "      <td>0</td>\n",
              "    </tr>\n",
              "    <tr>\n",
              "      <th>2221</th>\n",
              "      <td>kilroy unveils immigration policy ex-chatshow ...</td>\n",
              "      <td>0</td>\n",
              "      <td>0</td>\n",
              "      <td>1</td>\n",
              "      <td>0</td>\n",
              "      <td>0</td>\n",
              "    </tr>\n",
              "    <tr>\n",
              "      <th>2222</th>\n",
              "      <td>rem announce new glasgow concert us band rem h...</td>\n",
              "      <td>0</td>\n",
              "      <td>1</td>\n",
              "      <td>0</td>\n",
              "      <td>0</td>\n",
              "      <td>0</td>\n",
              "    </tr>\n",
              "    <tr>\n",
              "      <th>2223</th>\n",
              "      <td>how political squabbles snowball it s become c...</td>\n",
              "      <td>0</td>\n",
              "      <td>0</td>\n",
              "      <td>1</td>\n",
              "      <td>0</td>\n",
              "      <td>0</td>\n",
              "    </tr>\n",
              "    <tr>\n",
              "      <th>2224</th>\n",
              "      <td>souness delight at euro progress boss graeme s...</td>\n",
              "      <td>0</td>\n",
              "      <td>0</td>\n",
              "      <td>0</td>\n",
              "      <td>1</td>\n",
              "      <td>0</td>\n",
              "    </tr>\n",
              "  </tbody>\n",
              "</table>\n",
              "<p>2225 rows × 6 columns</p>\n",
              "</div>"
            ],
            "text/plain": [
              "                                                   text  business  ...  sport  tech\n",
              "0     tv future in the hands of viewers with home th...         0  ...      0     1\n",
              "1     worldcom boss  left books alone  former worldc...         1  ...      0     0\n",
              "2     tigers wary of farrell  gamble  leicester say ...         0  ...      1     0\n",
              "3     yeading face newcastle in fa cup premiership s...         0  ...      1     0\n",
              "4     ocean s twelve raids box office ocean s twelve...         0  ...      0     0\n",
              "...                                                 ...       ...  ...    ...   ...\n",
              "2220  cars pull down us retail figures us retail sal...         1  ...      0     0\n",
              "2221  kilroy unveils immigration policy ex-chatshow ...         0  ...      0     0\n",
              "2222  rem announce new glasgow concert us band rem h...         0  ...      0     0\n",
              "2223  how political squabbles snowball it s become c...         0  ...      0     0\n",
              "2224  souness delight at euro progress boss graeme s...         0  ...      1     0\n",
              "\n",
              "[2225 rows x 6 columns]"
            ]
          },
          "metadata": {
            "tags": []
          },
          "execution_count": 5
        }
      ]
    },
    {
      "cell_type": "code",
      "metadata": {
        "id": "iB-LS2hrdGJk"
      },
      "source": [
        "#ubah nilai-nilai dari dataframe ke dalam tipe data numpy array \n",
        "news_text = df_baru['text'].values\n",
        "label = df_baru[['business', 'entertainment', 'politics', 'sport', 'tech']].values\n"
      ],
      "execution_count": 6,
      "outputs": []
    },
    {
      "cell_type": "code",
      "metadata": {
        "id": "1RSRTHS8dHXH"
      },
      "source": [
        "#bagi dataset menjadi train dan test set\n",
        "train_text,test_text,train_label,test_label=train_test_split(news_text,label,test_size=0.2)"
      ],
      "execution_count": 7,
      "outputs": []
    },
    {
      "cell_type": "code",
      "metadata": {
        "id": "0XW7la6adKrV"
      },
      "source": [
        "max_kata = 1000\n",
        "tokenizer = Tokenizer(num_words=max_kata, oov_token='x')\n",
        "tokenizer.fit_on_texts(train_text) \n",
        "tokenizer.fit_on_texts(test_text)\n",
        " \n",
        "sekuens_train = tokenizer.texts_to_sequences(train_text)\n",
        "sekuens_test = tokenizer.texts_to_sequences(test_text)\n",
        " \n",
        "padded_train = pad_sequences(sekuens_train) \n",
        "padded_test = pad_sequences(sekuens_test)"
      ],
      "execution_count": 8,
      "outputs": []
    },
    {
      "cell_type": "code",
      "metadata": {
        "colab": {
          "base_uri": "https://localhost:8080/",
          "height": 231
        },
        "id": "BQx1qz8MdMuw",
        "outputId": "64ea9f08-03be-4d48-ef9b-627ba6746de8"
      },
      "source": [
        "model = tf.keras.Sequential([\n",
        "    tf.keras.layers.Embedding(input_dim=5000, output_dim=16),\n",
        "    tf.keras.layers.LSTM(256),\n",
        "    tf.keras.layers.Dense(512, input_shape=(max_kata,)),\n",
        "    tf.keras.layers.Dense(64, activation='relu'),\n",
        "    tf.keras.layers.Dropout(0.4, input_shape=(2,)),\n",
        "    tf.keras.layers.Dense(128, activation='softmax')\n",
        "])\n",
        "model.compile(loss='categorical_crossentropy',optimizer='adam',metrics=['accuracy'])"
      ],
      "execution_count": 17,
      "outputs": [
        {
          "output_type": "error",
          "ename": "AttributeError",
          "evalue": "ignored",
          "traceback": [
            "\u001b[0;31m---------------------------------------------------------------------------\u001b[0m",
            "\u001b[0;31mAttributeError\u001b[0m                            Traceback (most recent call last)",
            "\u001b[0;32m<ipython-input-17-0d72cdd241ab>\u001b[0m in \u001b[0;36m<module>\u001b[0;34m()\u001b[0m\n\u001b[1;32m      1\u001b[0m model = tf.keras.Sequential([\n\u001b[1;32m      2\u001b[0m     \u001b[0mtf\u001b[0m\u001b[0;34m.\u001b[0m\u001b[0mkeras\u001b[0m\u001b[0;34m.\u001b[0m\u001b[0mlayers\u001b[0m\u001b[0;34m.\u001b[0m\u001b[0mEmbedding\u001b[0m\u001b[0;34m(\u001b[0m\u001b[0minput_dim\u001b[0m\u001b[0;34m=\u001b[0m\u001b[0;36m5000\u001b[0m\u001b[0;34m,\u001b[0m \u001b[0moutput_dim\u001b[0m\u001b[0;34m=\u001b[0m\u001b[0;36m16\u001b[0m\u001b[0;34m)\u001b[0m\u001b[0;34m,\u001b[0m\u001b[0;34m\u001b[0m\u001b[0;34m\u001b[0m\u001b[0m\n\u001b[0;32m----> 3\u001b[0;31m     \u001b[0mtf\u001b[0m\u001b[0;34m.\u001b[0m\u001b[0mkeras\u001b[0m\u001b[0;34m.\u001b[0m\u001b[0mlayers\u001b[0m\u001b[0;34m.\u001b[0m\u001b[0mBiLSTM\u001b[0m\u001b[0;34m(\u001b[0m\u001b[0;36m256\u001b[0m\u001b[0;34m)\u001b[0m\u001b[0;34m,\u001b[0m\u001b[0;34m\u001b[0m\u001b[0;34m\u001b[0m\u001b[0m\n\u001b[0m\u001b[1;32m      4\u001b[0m     \u001b[0mtf\u001b[0m\u001b[0;34m.\u001b[0m\u001b[0mkeras\u001b[0m\u001b[0;34m.\u001b[0m\u001b[0mlayers\u001b[0m\u001b[0;34m.\u001b[0m\u001b[0mDense\u001b[0m\u001b[0;34m(\u001b[0m\u001b[0;36m512\u001b[0m\u001b[0;34m,\u001b[0m \u001b[0minput_shape\u001b[0m\u001b[0;34m=\u001b[0m\u001b[0;34m(\u001b[0m\u001b[0mmax_kata\u001b[0m\u001b[0;34m,\u001b[0m\u001b[0;34m)\u001b[0m\u001b[0;34m)\u001b[0m\u001b[0;34m,\u001b[0m\u001b[0;34m\u001b[0m\u001b[0;34m\u001b[0m\u001b[0m\n\u001b[1;32m      5\u001b[0m     \u001b[0mtf\u001b[0m\u001b[0;34m.\u001b[0m\u001b[0mkeras\u001b[0m\u001b[0;34m.\u001b[0m\u001b[0mlayers\u001b[0m\u001b[0;34m.\u001b[0m\u001b[0mDense\u001b[0m\u001b[0;34m(\u001b[0m\u001b[0;36m64\u001b[0m\u001b[0;34m,\u001b[0m \u001b[0mactivation\u001b[0m\u001b[0;34m=\u001b[0m\u001b[0;34m'relu'\u001b[0m\u001b[0;34m)\u001b[0m\u001b[0;34m,\u001b[0m\u001b[0;34m\u001b[0m\u001b[0;34m\u001b[0m\u001b[0m\n",
            "\u001b[0;31mAttributeError\u001b[0m: module 'tensorflow.keras.layers' has no attribute 'BiLSTM'"
          ]
        }
      ]
    },
    {
      "cell_type": "code",
      "metadata": {
        "id": "_73KlnsldZiK"
      },
      "source": [
        "#set batch size, epoch, and drop ratio\n",
        "batch_size = 16\n",
        "num_epochs = 30\n"
      ],
      "execution_count": 10,
      "outputs": []
    },
    {
      "cell_type": "code",
      "metadata": {
        "colab": {
          "base_uri": "https://localhost:8080/"
        },
        "id": "l5eiAeYadcXc",
        "outputId": "60da93a3-a916-4e67-88c6-983c5674cc6f"
      },
      "source": [
        "history = model.fit(padded_train, train_label, epochs=num_epochs, \n",
        "                    validation_data=(padded_test, test_label), verbose=1, validation_split=0.1)"
      ],
      "execution_count": 11,
      "outputs": [
        {
          "output_type": "stream",
          "text": [
            "Epoch 1/30\n",
            "51/51 [==============================] - 10s 142ms/step - loss: 1.6048 - accuracy: 0.2185 - val_loss: 1.6011 - val_accuracy: 0.3034\n",
            "Epoch 2/30\n",
            "51/51 [==============================] - 7s 133ms/step - loss: 1.4894 - accuracy: 0.3677 - val_loss: 1.4358 - val_accuracy: 0.3876\n",
            "Epoch 3/30\n",
            "51/51 [==============================] - 7s 133ms/step - loss: 1.2466 - accuracy: 0.4819 - val_loss: 1.0676 - val_accuracy: 0.5506\n",
            "Epoch 4/30\n",
            "51/51 [==============================] - 7s 133ms/step - loss: 0.9290 - accuracy: 0.6180 - val_loss: 0.8598 - val_accuracy: 0.6517\n",
            "Epoch 5/30\n",
            "51/51 [==============================] - 7s 134ms/step - loss: 0.6677 - accuracy: 0.7509 - val_loss: 0.8932 - val_accuracy: 0.7079\n",
            "Epoch 6/30\n",
            "51/51 [==============================] - 7s 134ms/step - loss: 0.5969 - accuracy: 0.7909 - val_loss: 0.8022 - val_accuracy: 0.6966\n",
            "Epoch 7/30\n",
            "51/51 [==============================] - 7s 134ms/step - loss: 0.4088 - accuracy: 0.8670 - val_loss: 0.7283 - val_accuracy: 0.7697\n",
            "Epoch 8/30\n",
            "51/51 [==============================] - 7s 133ms/step - loss: 0.4877 - accuracy: 0.8402 - val_loss: 0.8412 - val_accuracy: 0.7416\n",
            "Epoch 9/30\n",
            "51/51 [==============================] - 7s 134ms/step - loss: 0.3854 - accuracy: 0.8733 - val_loss: 0.8421 - val_accuracy: 0.7472\n",
            "Epoch 10/30\n",
            "51/51 [==============================] - 7s 135ms/step - loss: 0.2281 - accuracy: 0.9213 - val_loss: 0.6748 - val_accuracy: 0.8090\n",
            "Epoch 11/30\n",
            "51/51 [==============================] - 7s 133ms/step - loss: 0.1014 - accuracy: 0.9700 - val_loss: 0.7007 - val_accuracy: 0.8315\n",
            "Epoch 12/30\n",
            "51/51 [==============================] - 7s 133ms/step - loss: 0.0980 - accuracy: 0.9700 - val_loss: 1.0822 - val_accuracy: 0.7921\n",
            "Epoch 13/30\n",
            "51/51 [==============================] - 7s 133ms/step - loss: 0.1101 - accuracy: 0.9638 - val_loss: 1.2007 - val_accuracy: 0.7753\n",
            "Epoch 14/30\n",
            "51/51 [==============================] - 7s 135ms/step - loss: 0.0704 - accuracy: 0.9800 - val_loss: 1.0665 - val_accuracy: 0.7584\n",
            "Epoch 15/30\n",
            "51/51 [==============================] - 7s 137ms/step - loss: 0.1215 - accuracy: 0.9588 - val_loss: 0.9961 - val_accuracy: 0.7640\n",
            "Epoch 16/30\n",
            "51/51 [==============================] - 7s 136ms/step - loss: 0.0600 - accuracy: 0.9825 - val_loss: 1.0992 - val_accuracy: 0.8146\n",
            "Epoch 17/30\n",
            "51/51 [==============================] - 7s 138ms/step - loss: 0.0556 - accuracy: 0.9819 - val_loss: 1.0762 - val_accuracy: 0.8202\n",
            "Epoch 18/30\n",
            "51/51 [==============================] - 7s 136ms/step - loss: 0.0711 - accuracy: 0.9782 - val_loss: 1.7340 - val_accuracy: 0.6966\n",
            "Epoch 19/30\n",
            "51/51 [==============================] - 7s 137ms/step - loss: 0.0825 - accuracy: 0.9713 - val_loss: 0.9309 - val_accuracy: 0.8427\n",
            "Epoch 20/30\n",
            "51/51 [==============================] - 7s 138ms/step - loss: 0.1163 - accuracy: 0.9663 - val_loss: 1.4266 - val_accuracy: 0.7303\n",
            "Epoch 21/30\n",
            "51/51 [==============================] - 7s 137ms/step - loss: 0.4687 - accuracy: 0.8583 - val_loss: 0.8919 - val_accuracy: 0.8090\n",
            "Epoch 22/30\n",
            "51/51 [==============================] - 7s 137ms/step - loss: 0.0683 - accuracy: 0.9788 - val_loss: 1.0574 - val_accuracy: 0.8146\n",
            "Epoch 23/30\n",
            "51/51 [==============================] - 7s 138ms/step - loss: 0.0252 - accuracy: 0.9944 - val_loss: 1.1217 - val_accuracy: 0.8202\n",
            "Epoch 24/30\n",
            "51/51 [==============================] - 7s 137ms/step - loss: 0.0170 - accuracy: 0.9981 - val_loss: 1.1583 - val_accuracy: 0.8315\n",
            "Epoch 25/30\n",
            "51/51 [==============================] - 7s 139ms/step - loss: 0.0102 - accuracy: 0.9981 - val_loss: 1.1837 - val_accuracy: 0.8202\n",
            "Epoch 26/30\n",
            "51/51 [==============================] - 7s 137ms/step - loss: 0.0064 - accuracy: 0.9994 - val_loss: 1.2991 - val_accuracy: 0.8146\n",
            "Epoch 27/30\n",
            "51/51 [==============================] - 7s 138ms/step - loss: 0.2611 - accuracy: 0.9226 - val_loss: 1.2182 - val_accuracy: 0.7753\n",
            "Epoch 28/30\n",
            "51/51 [==============================] - 7s 139ms/step - loss: 0.0668 - accuracy: 0.9825 - val_loss: 1.2285 - val_accuracy: 0.8371\n",
            "Epoch 29/30\n",
            "51/51 [==============================] - 7s 140ms/step - loss: 0.0181 - accuracy: 0.9944 - val_loss: 1.3903 - val_accuracy: 0.8146\n",
            "Epoch 30/30\n",
            "51/51 [==============================] - 7s 139ms/step - loss: 0.0124 - accuracy: 0.9969 - val_loss: 1.3078 - val_accuracy: 0.8034\n"
          ],
          "name": "stdout"
        }
      ]
    },
    {
      "cell_type": "code",
      "metadata": {
        "id": "-kTPNWr3jaUF"
      },
      "source": [
        "def show_final_history(history):\n",
        "    fig, ax = plt.subplots(1, 2, figsize=(15,5))\n",
        "    ax[0].set_title('loss')\n",
        "    ax[0].plot(history.epoch, history.history[\"loss\"], label=\"Train loss\")\n",
        "    ax[0].plot(history.epoch, history.history[\"val_loss\"], label=\"Validation loss\")\n",
        "    ax[1].set_title('acc')\n",
        "    ax[1].plot(history.epoch, history.history[\"accuracy\"], label=\"Train accuracy\")\n",
        "    ax[1].plot(history.epoch, history.history[\"val_accuracy\"], label=\"Validation accuracy\")\n",
        "    ax[0].legend()\n",
        "    ax[1].legend()"
      ],
      "execution_count": 13,
      "outputs": []
    },
    {
      "cell_type": "code",
      "metadata": {
        "colab": {
          "base_uri": "https://localhost:8080/",
          "height": 421
        },
        "id": "EB8Y5Yu-h7An",
        "outputId": "3d7f4a15-e2ec-4c0f-9e7f-b62ea61896a8"
      },
      "source": [
        "\n",
        "#Cetak grafik dan nilai train dan test\n",
        "\n",
        "show_final_history(history)\n",
        "train_score = model.evaluate(padded_train, verbose=0)\n",
        "test_score = model.evaluate(test_label, verbose=0)\n",
        "print(\"Nilai Train loss :\",train_score[0])\n",
        "print(\"Nilai Akurasi train :\",train_score[1])\n",
        "print(\"Nilai Test Loss:\",test_score[0])\n",
        "print(\"Nilai Akurasi Test :\",test_score[1])\n",
        "\n",
        "#save model   \n",
        "model.save(\"model.h5\")\n",
        "print(\"Weights Saved\")"
      ],
      "execution_count": 16,
      "outputs": [
        {
          "output_type": "stream",
          "text": [
            "Nilai Train loss : 0.0\n",
            "Nilai Akurasi train : 0.0\n",
            "Nilai Test Loss: 0.0\n",
            "Nilai Akurasi Test : 0.0\n",
            "Weights Saved\n"
          ],
          "name": "stdout"
        },
        {
          "output_type": "display_data",
          "data": {
            "image/png": "[encoded data removed]",
            "text/plain": [
              "<Figure size 1080x360 with 2 Axes>"
            ]
          },
          "metadata": {
            "tags": [],
            "needs_background": "light"
          }
        }
      ]
    }
  ]
}