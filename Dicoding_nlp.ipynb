{
  "nbformat": 4,
  "nbformat_minor": 0,
  "metadata": {
    "colab": {
      "name": "Dicoding_nlp.ipynb",
      "provenance": [],
      "authorship_tag": "ABX9TyOg0OSz0uA82Ij1jaOAiKFz",
      "include_colab_link": true
    },
    "kernelspec": {
      "name": "python3",
      "display_name": "Python 3"
    },
    "language_info": {
      "name": "python"
    },
    "accelerator": "GPU"
  },
  "cells": [
    {
      "cell_type": "markdown",
      "metadata": {
        "id": "view-in-github",
        "colab_type": "text"
      },
      "source": [
        "<a href=\"https://colab.research.google.com/github/albertchristian92/BBC-Text-Categorization/blob/main/Dicoding_nlp.ipynb\" target=\"_parent\"><img src=\"https://colab.research.google.com/assets/colab-badge.svg\" alt=\"Open In Colab\"/></a>"
      ]
    },
    {
      "cell_type": "code",
      "metadata": {
        "colab": {
          "base_uri": "https://localhost:8080/"
        },
        "id": "o-it35ofcFDQ",
        "outputId": "04bbf3a5-5eea-4837-ee54-8d0191a5f40f"
      },
      "source": [
        "#Pertama-tama set runtime setting to GPU pada google colabs agar dapat di run menggunakan GPU, sebab jika training menggunakan CPU akan consume time\n",
        "#Runtime-> Change Runtime type\n",
        "#Cek apakah sudah menggunakan GPU atau belum\n",
        "\n",
        "%tensorflow_version 2.x\n",
        "import tensorflow as tf\n",
        "device_name = tf.test.gpu_device_name()\n",
        "if device_name != '/device:GPU:0':\n",
        "  raise SystemError('GPU device not found')\n",
        "print('Found GPU at: {}'.format(device_name))"
      ],
      "execution_count": 1,
      "outputs": [
        {
          "output_type": "stream",
          "text": [
            "Found GPU at: /device:GPU:0\n"
          ],
          "name": "stdout"
        }
      ]
    },
    {
      "cell_type": "code",
      "metadata": {
        "colab": {
          "base_uri": "https://localhost:8080/"
        },
        "id": "4oNS1RA4cP5Y",
        "outputId": "5ec6d51e-ab78-46df-e0ca-e935a4966b53"
      },
      "source": [
        "#Cek GPU apa yang digunakan\n",
        "!nvidia-smi"
      ],
      "execution_count": 2,
      "outputs": [
        {
          "output_type": "stream",
          "text": [
            "Thu Jul 15 11:15:32 2021       \n",
            "+-----------------------------------------------------------------------------+\n",
            "| NVIDIA-SMI 470.42.01    Driver Version: 460.32.03    CUDA Version: 11.2     |\n",
            "|-------------------------------+----------------------+----------------------+\n",
            "| GPU  Name        Persistence-M| Bus-Id        Disp.A | Volatile Uncorr. ECC |\n",
            "| Fan  Temp  Perf  Pwr:Usage/Cap|         Memory-Usage | GPU-Util  Compute M. |\n",
            "|                               |                      |               MIG M. |\n",
            "|===============================+======================+======================|\n",
            "|   0  Tesla T4            Off  | 00000000:00:04.0 Off |                    0 |\n",
            "| N/A   64C    P0    30W /  70W |    222MiB / 15109MiB |      3%      Default |\n",
            "|                               |                      |                  N/A |\n",
            "+-------------------------------+----------------------+----------------------+\n",
            "                                                                               \n",
            "+-----------------------------------------------------------------------------+\n",
            "| Processes:                                                                  |\n",
            "|  GPU   GI   CI        PID   Type   Process name                  GPU Memory |\n",
            "|        ID   ID                                                   Usage      |\n",
            "|=============================================================================|\n",
            "|  No running processes found                                                 |\n",
            "+-----------------------------------------------------------------------------+\n"
          ],
          "name": "stdout"
        }
      ]
    },
    {
      "cell_type": "code",
      "metadata": {
        "colab": {
          "base_uri": "https://localhost:8080/"
        },
        "id": "LGYHf-gkcTFG",
        "outputId": "e466d5d3-f81f-4aa6-da47-cd9a504d70bd"
      },
      "source": [
        "#Import Library yang dibutuhkan\n",
        "import pandas as pd\n",
        "from sklearn.model_selection import train_test_split\n",
        "import numpy as np\n",
        "\n",
        "import tensorflow as tf\n",
        "from tensorflow import keras\n",
        "from tensorflow.keras.preprocessing.text import Tokenizer\n",
        "from tensorflow.keras.preprocessing.sequence import pad_sequences\n",
        "from tensorflow.keras.layers import Dense, LSTM, Flatten, Bidirectional\n",
        "from tensorflow.keras.models import Sequential\n",
        "from tensorflow.keras.layers import Dropout, Embedding\n",
        "\n",
        "import matplotlib.pyplot as plt\n",
        "\n",
        "#This code was tested with TensorFlow v2.4.1\n",
        "print(\"You have TensorFlow version\", tf.__version__)"
      ],
      "execution_count": 3,
      "outputs": [
        {
          "output_type": "stream",
          "text": [
            "You have TensorFlow version 2.5.0\n"
          ],
          "name": "stdout"
        }
      ]
    },
    {
      "cell_type": "markdown",
      "metadata": {
        "id": "zE-8LRAydt2q"
      },
      "source": [
        "Upload dataset ke google colabs:\n",
        "Dataset yang saya gunakan:  https://www.kaggle.com/yufengdev/bbc-fulltext-and-category"
      ]
    },
    {
      "cell_type": "code",
      "metadata": {
        "colab": {
          "base_uri": "https://localhost:8080/",
          "height": 204
        },
        "id": "qxng5B96cpXQ",
        "outputId": "2b5b2b0b-2021-4521-ff28-bd980d653117"
      },
      "source": [
        "#baca data dan tampilkan 5 sampel teratas pada dataset\n",
        "df = pd.read_csv(\"bbc-text.csv\")\n",
        "df.head()"
      ],
      "execution_count": 4,
      "outputs": [
        {
          "output_type": "execute_result",
          "data": {
            "text/html": [
              "<div>\n",
              "<style scoped>\n",
              "    .dataframe tbody tr th:only-of-type {\n",
              "        vertical-align: middle;\n",
              "    }\n",
              "\n",
              "    .dataframe tbody tr th {\n",
              "        vertical-align: top;\n",
              "    }\n",
              "\n",
              "    .dataframe thead th {\n",
              "        text-align: right;\n",
              "    }\n",
              "</style>\n",
              "<table border=\"1\" class=\"dataframe\">\n",
              "  <thead>\n",
              "    <tr style=\"text-align: right;\">\n",
              "      <th></th>\n",
              "      <th>category</th>\n",
              "      <th>text</th>\n",
              "    </tr>\n",
              "  </thead>\n",
              "  <tbody>\n",
              "    <tr>\n",
              "      <th>0</th>\n",
              "      <td>tech</td>\n",
              "      <td>tv future in the hands of viewers with home th...</td>\n",
              "    </tr>\n",
              "    <tr>\n",
              "      <th>1</th>\n",
              "      <td>business</td>\n",
              "      <td>worldcom boss  left books alone  former worldc...</td>\n",
              "    </tr>\n",
              "    <tr>\n",
              "      <th>2</th>\n",
              "      <td>sport</td>\n",
              "      <td>tigers wary of farrell  gamble  leicester say ...</td>\n",
              "    </tr>\n",
              "    <tr>\n",
              "      <th>3</th>\n",
              "      <td>sport</td>\n",
              "      <td>yeading face newcastle in fa cup premiership s...</td>\n",
              "    </tr>\n",
              "    <tr>\n",
              "      <th>4</th>\n",
              "      <td>entertainment</td>\n",
              "      <td>ocean s twelve raids box office ocean s twelve...</td>\n",
              "    </tr>\n",
              "  </tbody>\n",
              "</table>\n",
              "</div>"
            ],
            "text/plain": [
              "        category                                               text\n",
              "0           tech  tv future in the hands of viewers with home th...\n",
              "1       business  worldcom boss  left books alone  former worldc...\n",
              "2          sport  tigers wary of farrell  gamble  leicester say ...\n",
              "3          sport  yeading face newcastle in fa cup premiership s...\n",
              "4  entertainment  ocean s twelve raids box office ocean s twelve..."
            ]
          },
          "metadata": {
            "tags": []
          },
          "execution_count": 4
        }
      ]
    },
    {
      "cell_type": "code",
      "metadata": {
        "colab": {
          "base_uri": "https://localhost:8080/",
          "height": 419
        },
        "id": "oPZ1k_kwdAcH",
        "outputId": "6c99f5bd-3c15-4cfb-8352-d41fe7b02421"
      },
      "source": [
        "# one-hot-encoding \n",
        "kategori = pd.get_dummies(df.category)\n",
        "df_baru = pd.concat([df, kategori], axis=1)\n",
        "df_baru = df_baru.drop(columns='category')\n",
        "df_baru"
      ],
      "execution_count": 5,
      "outputs": [
        {
          "output_type": "execute_result",
          "data": {
            "text/html": [
              "<div>\n",
              "<style scoped>\n",
              "    .dataframe tbody tr th:only-of-type {\n",
              "        vertical-align: middle;\n",
              "    }\n",
              "\n",
              "    .dataframe tbody tr th {\n",
              "        vertical-align: top;\n",
              "    }\n",
              "\n",
              "    .dataframe thead th {\n",
              "        text-align: right;\n",
              "    }\n",
              "</style>\n",
              "<table border=\"1\" class=\"dataframe\">\n",
              "  <thead>\n",
              "    <tr style=\"text-align: right;\">\n",
              "      <th></th>\n",
              "      <th>text</th>\n",
              "      <th>business</th>\n",
              "      <th>entertainment</th>\n",
              "      <th>politics</th>\n",
              "      <th>sport</th>\n",
              "      <th>tech</th>\n",
              "    </tr>\n",
              "  </thead>\n",
              "  <tbody>\n",
              "    <tr>\n",
              "      <th>0</th>\n",
              "      <td>tv future in the hands of viewers with home th...</td>\n",
              "      <td>0</td>\n",
              "      <td>0</td>\n",
              "      <td>0</td>\n",
              "      <td>0</td>\n",
              "      <td>1</td>\n",
              "    </tr>\n",
              "    <tr>\n",
              "      <th>1</th>\n",
              "      <td>worldcom boss  left books alone  former worldc...</td>\n",
              "      <td>1</td>\n",
              "      <td>0</td>\n",
              "      <td>0</td>\n",
              "      <td>0</td>\n",
              "      <td>0</td>\n",
              "    </tr>\n",
              "    <tr>\n",
              "      <th>2</th>\n",
              "      <td>tigers wary of farrell  gamble  leicester say ...</td>\n",
              "      <td>0</td>\n",
              "      <td>0</td>\n",
              "      <td>0</td>\n",
              "      <td>1</td>\n",
              "      <td>0</td>\n",
              "    </tr>\n",
              "    <tr>\n",
              "      <th>3</th>\n",
              "      <td>yeading face newcastle in fa cup premiership s...</td>\n",
              "      <td>0</td>\n",
              "      <td>0</td>\n",
              "      <td>0</td>\n",
              "      <td>1</td>\n",
              "      <td>0</td>\n",
              "    </tr>\n",
              "    <tr>\n",
              "      <th>4</th>\n",
              "      <td>ocean s twelve raids box office ocean s twelve...</td>\n",
              "      <td>0</td>\n",
              "      <td>1</td>\n",
              "      <td>0</td>\n",
              "      <td>0</td>\n",
              "      <td>0</td>\n",
              "    </tr>\n",
              "    <tr>\n",
              "      <th>...</th>\n",
              "      <td>...</td>\n",
              "      <td>...</td>\n",
              "      <td>...</td>\n",
              "      <td>...</td>\n",
              "      <td>...</td>\n",
              "      <td>...</td>\n",
              "    </tr>\n",
              "    <tr>\n",
              "      <th>2220</th>\n",
              "      <td>cars pull down us retail figures us retail sal...</td>\n",
              "      <td>1</td>\n",
              "      <td>0</td>\n",
              "      <td>0</td>\n",
              "      <td>0</td>\n",
              "      <td>0</td>\n",
              "    </tr>\n",
              "    <tr>\n",
              "      <th>2221</th>\n",
              "      <td>kilroy unveils immigration policy ex-chatshow ...</td>\n",
              "      <td>0</td>\n",
              "      <td>0</td>\n",
              "      <td>1</td>\n",
              "      <td>0</td>\n",
              "      <td>0</td>\n",
              "    </tr>\n",
              "    <tr>\n",
              "      <th>2222</th>\n",
              "      <td>rem announce new glasgow concert us band rem h...</td>\n",
              "      <td>0</td>\n",
              "      <td>1</td>\n",
              "      <td>0</td>\n",
              "      <td>0</td>\n",
              "      <td>0</td>\n",
              "    </tr>\n",
              "    <tr>\n",
              "      <th>2223</th>\n",
              "      <td>how political squabbles snowball it s become c...</td>\n",
              "      <td>0</td>\n",
              "      <td>0</td>\n",
              "      <td>1</td>\n",
              "      <td>0</td>\n",
              "      <td>0</td>\n",
              "    </tr>\n",
              "    <tr>\n",
              "      <th>2224</th>\n",
              "      <td>souness delight at euro progress boss graeme s...</td>\n",
              "      <td>0</td>\n",
              "      <td>0</td>\n",
              "      <td>0</td>\n",
              "      <td>1</td>\n",
              "      <td>0</td>\n",
              "    </tr>\n",
              "  </tbody>\n",
              "</table>\n",
              "<p>2225 rows × 6 columns</p>\n",
              "</div>"
            ],
            "text/plain": [
              "                                                   text  business  ...  sport  tech\n",
              "0     tv future in the hands of viewers with home th...         0  ...      0     1\n",
              "1     worldcom boss  left books alone  former worldc...         1  ...      0     0\n",
              "2     tigers wary of farrell  gamble  leicester say ...         0  ...      1     0\n",
              "3     yeading face newcastle in fa cup premiership s...         0  ...      1     0\n",
              "4     ocean s twelve raids box office ocean s twelve...         0  ...      0     0\n",
              "...                                                 ...       ...  ...    ...   ...\n",
              "2220  cars pull down us retail figures us retail sal...         1  ...      0     0\n",
              "2221  kilroy unveils immigration policy ex-chatshow ...         0  ...      0     0\n",
              "2222  rem announce new glasgow concert us band rem h...         0  ...      0     0\n",
              "2223  how political squabbles snowball it s become c...         0  ...      0     0\n",
              "2224  souness delight at euro progress boss graeme s...         0  ...      1     0\n",
              "\n",
              "[2225 rows x 6 columns]"
            ]
          },
          "metadata": {
            "tags": []
          },
          "execution_count": 5
        }
      ]
    },
    {
      "cell_type": "code",
      "metadata": {
        "id": "iB-LS2hrdGJk"
      },
      "source": [
        "#ubah nilai-nilai dari dataframe ke dalam tipe data numpy array \n",
        "news_text = df_baru['text'].values\n",
        "label = df_baru[['business', 'entertainment', 'politics', 'sport', 'tech']].values\n"
      ],
      "execution_count": 6,
      "outputs": []
    },
    {
      "cell_type": "code",
      "metadata": {
        "id": "1RSRTHS8dHXH"
      },
      "source": [
        "#bagi dataset menjadi train dan test set\n",
        "train_text,test_text,train_label,test_label=train_test_split(news_text,label,test_size=0.2)"
      ],
      "execution_count": 7,
      "outputs": []
    },
    {
      "cell_type": "code",
      "metadata": {
        "id": "0XW7la6adKrV"
      },
      "source": [
        "#ubah setiap kata pada dataset kita ke dalam bilangan numerik dengan fungsi Tokenizer dan konversi setiap sampel menjadi sequences\n",
        "max_kata = 1000\n",
        "tokenizer = Tokenizer(num_words=max_kata, oov_token='x')\n",
        "\n",
        "tokenizer.fit_on_texts(train_text) \n",
        "tokenizer.fit_on_texts(test_text)\n",
        " \n",
        "sekuens_train = tokenizer.texts_to_sequences(train_text)\n",
        "sekuens_test = tokenizer.texts_to_sequences(test_text)\n",
        " \n",
        "padded_train = pad_sequences(sekuens_train) \n",
        "padded_test = pad_sequences(sekuens_test)\n",
        "\n",
        "panjang_index_kata = len(tokenizer.word_index)\n"
      ],
      "execution_count": 16,
      "outputs": []
    },
    {
      "cell_type": "code",
      "metadata": {
        "id": "_73KlnsldZiK"
      },
      "source": [
        "#set batch size, epoch, and drop ratio\n",
        "batch_size = 16\n",
        "num_epochs = 10\n",
        "drop_ratio =0.5\n",
        "embedding_dim = 300\n",
        "n_class=5\n",
        "max_len = 128\n"
      ],
      "execution_count": 22,
      "outputs": []
    },
    {
      "cell_type": "code",
      "metadata": {
        "colab": {
          "base_uri": "https://localhost:8080/"
        },
        "id": "w_PZD8BCuCdU",
        "outputId": "04e57fa7-84f6-45e6-d259-660e586e92c7"
      },
      "source": [
        "#buat model\n",
        "model = Sequential()\n",
        "model.add(Embedding(input_dim=5000, output_dim=embedding_dim))\n",
        "model.add(Bidirectional(LSTM(embedding_dim, kernel_initializer='orthogonal')))\n",
        "model.add(Dense(embedding_dim, activation='relu', input_shape=(max_kata,)))\n",
        "model.add(Dropout(drop_ratio))\n",
        "model.add(Dense(n_class, activation='softmax'))\n",
        "model.summary()"
      ],
      "execution_count": 27,
      "outputs": [
        {
          "output_type": "stream",
          "text": [
            "Model: \"sequential_5\"\n",
            "_________________________________________________________________\n",
            "Layer (type)                 Output Shape              Param #   \n",
            "=================================================================\n",
            "embedding_4 (Embedding)      (None, None, 300)         1500000   \n",
            "_________________________________________________________________\n",
            "bidirectional_7 (Bidirection (None, 600)               1442400   \n",
            "_________________________________________________________________\n",
            "dense_6 (Dense)              (None, 300)               180300    \n",
            "_________________________________________________________________\n",
            "dropout_4 (Dropout)          (None, 300)               0         \n",
            "_________________________________________________________________\n",
            "dense_7 (Dense)              (None, 5)                 1505      \n",
            "=================================================================\n",
            "Total params: 3,124,205\n",
            "Trainable params: 3,124,205\n",
            "Non-trainable params: 0\n",
            "_________________________________________________________________\n"
          ],
          "name": "stdout"
        }
      ]
    },
    {
      "cell_type": "code",
      "metadata": {
        "id": "BQx1qz8MdMuw"
      },
      "source": [
        "model.compile(loss='categorical_crossentropy',optimizer='adam',metrics=['accuracy'])"
      ],
      "execution_count": 28,
      "outputs": []
    },
    {
      "cell_type": "code",
      "metadata": {
        "colab": {
          "base_uri": "https://localhost:8080/"
        },
        "id": "l5eiAeYadcXc",
        "outputId": "84e8d385-1a21-4c7b-a94a-36e0bed08298"
      },
      "source": [
        "history = model.fit(padded_train, train_label, epochs=num_epochs, batch_size=batch_size,\n",
        "                    validation_data=(padded_test, test_label), verbose=2, validation_split=0.1)"
      ],
      "execution_count": 29,
      "outputs": [
        {
          "output_type": "stream",
          "text": [
            "Epoch 1/20\n",
            "101/101 - 59s - loss: 1.6061 - accuracy: 0.2615 - val_loss: 1.4308 - val_accuracy: 0.4157\n",
            "Epoch 2/20\n",
            "101/101 - 56s - loss: 1.1053 - accuracy: 0.5574 - val_loss: 0.9969 - val_accuracy: 0.6348\n",
            "Epoch 3/20\n",
            "101/101 - 56s - loss: 0.6334 - accuracy: 0.7672 - val_loss: 0.9226 - val_accuracy: 0.6854\n",
            "Epoch 4/20\n",
            "101/101 - 56s - loss: 0.4979 - accuracy: 0.8433 - val_loss: 0.8355 - val_accuracy: 0.7303\n",
            "Epoch 5/20\n",
            "101/101 - 56s - loss: 0.4988 - accuracy: 0.8365 - val_loss: 0.7936 - val_accuracy: 0.7416\n",
            "Epoch 6/20\n",
            "101/101 - 57s - loss: 0.2952 - accuracy: 0.8908 - val_loss: 0.9382 - val_accuracy: 0.7247\n",
            "Epoch 7/20\n",
            "101/101 - 56s - loss: 0.2111 - accuracy: 0.9251 - val_loss: 0.8638 - val_accuracy: 0.8090\n",
            "Epoch 8/20\n",
            "101/101 - 56s - loss: 0.1262 - accuracy: 0.9588 - val_loss: 0.9602 - val_accuracy: 0.7978\n",
            "Epoch 9/20\n",
            "101/101 - 56s - loss: 0.0833 - accuracy: 0.9763 - val_loss: 1.0168 - val_accuracy: 0.8146\n",
            "Epoch 10/20\n",
            "101/101 - 56s - loss: 0.0763 - accuracy: 0.9775 - val_loss: 1.3426 - val_accuracy: 0.7360\n",
            "Epoch 11/20\n",
            "101/101 - 56s - loss: 0.1499 - accuracy: 0.9576 - val_loss: 1.3692 - val_accuracy: 0.7022\n",
            "Epoch 12/20\n",
            "101/101 - 57s - loss: 0.3775 - accuracy: 0.8752 - val_loss: 1.2788 - val_accuracy: 0.6910\n",
            "Epoch 13/20\n",
            "101/101 - 57s - loss: 0.1910 - accuracy: 0.9407 - val_loss: 1.1695 - val_accuracy: 0.7247\n",
            "Epoch 14/20\n",
            "101/101 - 56s - loss: 0.1832 - accuracy: 0.9338 - val_loss: 1.4510 - val_accuracy: 0.6742\n",
            "Epoch 15/20\n",
            "101/101 - 56s - loss: 0.1133 - accuracy: 0.9625 - val_loss: 1.6156 - val_accuracy: 0.7079\n",
            "Epoch 16/20\n",
            "101/101 - 57s - loss: 0.1838 - accuracy: 0.9476 - val_loss: 1.3815 - val_accuracy: 0.7697\n",
            "Epoch 17/20\n",
            "101/101 - 57s - loss: 0.0346 - accuracy: 0.9894 - val_loss: 1.4547 - val_accuracy: 0.7584\n",
            "Epoch 18/20\n",
            "101/101 - 57s - loss: 0.0328 - accuracy: 0.9925 - val_loss: 1.4885 - val_accuracy: 0.7865\n",
            "Epoch 19/20\n",
            "101/101 - 56s - loss: 0.0057 - accuracy: 0.9988 - val_loss: 1.4623 - val_accuracy: 0.7978\n",
            "Epoch 20/20\n",
            "101/101 - 56s - loss: 0.0026 - accuracy: 0.9994 - val_loss: 1.5363 - val_accuracy: 0.7921\n"
          ],
          "name": "stdout"
        }
      ]
    },
    {
      "cell_type": "code",
      "metadata": {
        "id": "-kTPNWr3jaUF"
      },
      "source": [
        "#buat function untuk grafik\n",
        "def show_final_history(history):\n",
        "    fig, ax = plt.subplots(1, 2, figsize=(15,5))\n",
        "    ax[0].set_title('loss')\n",
        "    ax[0].plot(history.epoch, history.history[\"loss\"], label=\"Train loss\")\n",
        "    ax[0].plot(history.epoch, history.history[\"val_loss\"], label=\"Validation loss\")\n",
        "    ax[1].set_title('acc')\n",
        "    ax[1].plot(history.epoch, history.history[\"accuracy\"], label=\"Train accuracy\")\n",
        "    ax[1].plot(history.epoch, history.history[\"val_accuracy\"], label=\"Validation accuracy\")\n",
        "    ax[0].legend()\n",
        "    ax[1].legend()"
      ],
      "execution_count": 30,
      "outputs": []
    },
    {
      "cell_type": "code",
      "metadata": {
        "id": "EB8Y5Yu-h7An"
      },
      "source": [
        "#Cetak grafik dan nilai train dan test\n",
        "\n",
        "show_final_history(history)\n",
        "train_score=model.evaluate(padded_train,train_label,verbose=0)\n",
        "test_score = model.evaluate(padded_test,test_label, verbose=0)\n",
        "print(\"Nilai Train loss :\",train_score[0])\n",
        "print(\"Nilai Akurasi train :\",train_score[1])\n",
        "print(\"Nilai Test Loss:\",test_score[0])\n",
        "print(\"Nilai Akurasi Test :\",test_score[1])\n",
        "\n",
        "#save model   \n",
        "model.save(\"model.h5\")\n",
        "print(\"Weights Saved\")"
      ],
      "execution_count": null,
      "outputs": []
    }
  ]
}